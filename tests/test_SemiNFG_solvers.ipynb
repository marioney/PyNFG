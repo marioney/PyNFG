{
 "cells": [
  {
   "cell_type": "heading",
   "metadata": {},
   "level": 1,
   "source": [
    "Test notebook for one shot Level-K Solvers"
   ]
  },
  {
   "cell_type": "markdown",
   "metadata": {},
   "source": [
    "This notebook is designed to test the SemiNFG solvers.  This includes BestResponse, RLK, both with and without the QRE.  However, this notebook is also an excellent example script that shows exactly how to use PyNFG."
   ]
  },
  {
   "cell_type": "heading",
   "metadata": {},
   "level": 2,
   "source": [
    "The Scenario"
   ]
  },
  {
   "cell_type": "markdown",
   "metadata": {},
   "source": [
    "There are two players, Trey ($T$) and Mike ($M$).  They are owners of firms that compete in the same market.  They need to decide how much to produce next period.  For simplicity, suppose they can only produce 10, 20, 30, 40, 50 or 60 units of product.  Trey and Mike do not communicate and must act simultaneously.  Furthermore, suppose that the market demand function can be either $Q_{1} =\\alpha_1-\\beta_1 P_i$ with probability $q$ or $Q_{2} = \\alpha_2-\\beta_2 P_2$.  Assume that Trey observes the market demand function exactly but Mike does not. Instead assume that Mike observes a signal, $S_1$ or $S_2$.  When demand is given by $Q_1$, Mike receives the signal $S_1$ with probability $s_1$.  When there is low demand, Mike receives the signal of $S_2$ with probability $s_2$.  Finally, each firm has a per unit cost of \\$$1$ and no fixed costs. As a result utility functions are simply profit functions given by $profit_i = Q_iP^* - Q_i$, where $P^*$ is determined by the production decisions of both firms.  Assume that the demand functions, $q$ and $m_{1,2}$ are common knowledge. In principle this is a simple Cournot model where one player does not observe market demand perfectly. "
   ]
  },
  {
   "cell_type": "heading",
   "metadata": {},
   "level": 3,
   "source": [
    "Parameters:"
   ]
  },
  {
   "cell_type": "markdown",
   "metadata": {},
   "source": [
    "To ground the example, we can define the parameters here:\n",
    "\n",
    "$\\alpha_1 = 100, \\;\n",
    "\\alpha_2 =  90$\n",
    "\n",
    "$\\beta_1 = .5,\\;\\beta_2 = 1$\n",
    "\n",
    "$q = .5$\n",
    "\n",
    "$s_1 = .8, \\;s_2 = .7$\n"
   ]
  },
  {
   "cell_type": "markdown",
   "metadata": {},
   "source": [
    "The inverse demand functions are given by:\n",
    "\n",
    "$P_d = \\frac{Q_d-\\alpha_d}{\\beta_d}$ for $d= 1,2$"
   ]
  },
  {
   "cell_type": "heading",
   "metadata": {},
   "level": 2,
   "source": [
    "Trey's Level 1 Optimization Problem"
   ]
  },
  {
   "cell_type": "markdown",
   "metadata": {},
   "source": [
    "Trey seeks to maximize:\n",
    "\n",
    "$\\displaystyle\\max_Q\\mathbf{E}\\big[\\frac{Q_M + Q_T-\\alpha_d}{\\beta_d} (Q_M + Q_T) -Q_T\\big]$ for $d=1,2$\n",
    "\n",
    "Since this is a level-k scenario, Trey's level 1 strategy depends on his beliefs of Mike's level 0 strategy.  As is common, this example assumes that the level 0 distribution on both players are uniform.  We can then calculate Trey's expected utility for each possible strategy:"
   ]
  },
  {
   "cell_type": "code",
   "execution_count": 62,
   "metadata": {},
   "outputs": [
    {
     "name": "stdout",
     "output_type": "stream",
     "text": [
      "Trey picks\n"
     ]
    },
    {
     "data": {
      "image/png": "[encoded data removed]",
      "text/plain": [
       "q_t"
      ]
     },
     "metadata": {},
     "output_type": "display_data"
    },
    {
     "name": "stdout",
     "output_type": "stream",
     "text": [
      "to maximize:\n",
      "\n",
      "\n"
     ]
    },
    {
     "data": {
      "image/png": "[encoded data removed]",
      "text/plain": [
       "       q_t⋅(α₁ - q_t - 60)   q_t⋅(α₁ - q_t - 50)   q_t⋅(α₁ - q_t - 40)   q_t⋅(\n",
       "-q_t + ─────────────────── + ─────────────────── + ─────────────────── + ─────\n",
       "               6⋅β₁                  6⋅β₁                  6⋅β₁               \n",
       "\n",
       "α₁ - q_t - 30)   q_t⋅(α₁ - q_t - 20)   q_t⋅(α₁ - q_t - 10)\n",
       "────────────── + ─────────────────── + ───────────────────\n",
       "   6⋅β₁                  6⋅β₁                  6⋅β₁       "
      ]
     },
     "metadata": {},
     "output_type": "display_data"
    },
    {
     "name": "stdout",
     "output_type": "stream",
     "text": [
      "\n",
      "\n",
      "Which Simplifies to:\n",
      "\n",
      "\n"
     ]
    },
    {
     "data": {
      "image/png": "[encoded data removed]",
      "text/plain": [
       "q_t⋅(α₁ - β₁ - q_t - 35)\n",
       "────────────────────────\n",
       "           β₁           "
      ]
     },
     "metadata": {},
     "output_type": "display_data"
    }
   ],
   "source": [
    "from sympy.stats import FiniteRV, E\n",
    "from sympy import symbols, init_printing, Function, Rational, evalf\n",
    "from sympy.abc import alpha, beta\n",
    "from sympy.simplify import simplify\n",
    "from sympy.interactive import printing\n",
    "printing.init_printing()\n",
    "init_printing(use_latex=True)\n",
    "a1, a2, b1, b2, qm, qt = symbols(\"alpha_1 alpha_2 beta_1 beta_2 q_m q_t\")\n",
    "mikes_q0 = FiniteRV('Q_M', dict(zip(np.arange(10, 70, 10), [Rational(1,6)]*6))) # Distribution over Mike's actions\n",
    "eu = E((-1*(mikes_q0 + qt -a1)/b1)*(qt) -qt) # Expected Utility\n",
    "from IPython.display import display\n",
    "print 'Trey picks' \n",
    "display(qt)\n",
    "print 'to maximize:'\n",
    "print '\\n'\n",
    "display(eu)\n",
    "print '\\n'\n",
    "print 'Which Simplifies to:'\n",
    "print '\\n'\n",
    "display(simplify(eu))"
   ]
  },
  {
   "cell_type": "markdown",
   "metadata": {},
   "source": [
    "Now, we could use sympy to find the derivative and solve but since the domain is a finite set, we will just iterate through and record the expected utilities."
   ]
  },
  {
   "cell_type": "code",
   "execution_count": 63,
   "metadata": {},
   "outputs": [
    {
     "data": {
      "text/plain": [
       "{10: 1090.0, 20: 1780.0, 30: 2070.0, 40: 1960.0, 50: 1450.0, 60: 540.0}"
      ]
     },
     "execution_count": 63,
     "metadata": {},
     "output_type": "execute_result"
    }
   ],
   "source": [
    "trey_eu_l1_d1 = {} # Trey's level 1 expected utilities with Demand 1\n",
    "for qtrey in range(10,70,10):\n",
    "    eu_numeric = eu.evalf(subs=dict(zip([a1,b1, qt],[100, .5, qtrey])))\n",
    "    trey_eu_l1_d1[qtrey] =eu_numeric\n",
    "trey_eu_l1_d1"
   ]
  },
  {
   "cell_type": "markdown",
   "metadata": {},
   "source": [
    "We can do the same for a low market, just by changing the parameters in the evalf function"
   ]
  },
  {
   "cell_type": "code",
   "execution_count": 64,
   "metadata": {},
   "outputs": [
    {
     "data": {
      "text/plain": [
       "{10: 440.0, 20: 680.0, 30: 720.0, 40: 560.0, 50: 200.0, 60: -360.0}"
      ]
     },
     "execution_count": 64,
     "metadata": {},
     "output_type": "execute_result"
    }
   ],
   "source": [
    "trey_eu_l1_d2 = {} # Trey's level 1 expected utilities with a Demand 2\n",
    "for qtrey in range(10,70,10):\n",
    "    eu_numeric = eu.evalf(subs=dict(zip([a1,b1, qt],[90, 1, qtrey])))\n",
    "    trey_eu_l1_d2[qtrey] =eu_numeric\n",
    "trey_eu_l1_d2"
   ]
  },
  {
   "cell_type": "markdown",
   "metadata": {},
   "source": [
    "If Trey is best responding without error (i.e. not quantal responding), his level 1 strategy would be to produce thirty regardless of the market demand he observes.  If he is quantal responding, his level 1 strategy is a mixed strategy.  If we assume that the $\\beta$ parameter is .01, Trey's level 1 quantal response strategy is given by:"
   ]
  },
  {
   "cell_type": "code",
   "execution_count": 65,
   "metadata": {},
   "outputs": [],
   "source": [
    "import numpy as np\n",
    "trey_qre_l1_d1 = {}\n",
    "denom = np.sum(np.exp(np.float_(np.asarray(trey_eu_l1_d1.values())*.01)))\n",
    "for key, val in trey_eu_l1_d1.iteritems():\n",
    "    trey_qre_l1_d1[key] = np.exp(float(val)*.01)/denom\n",
    "trey_qre_l1_d2 = {}\n",
    "denom = np.sum(np.exp(np.float_(np.asarray(trey_eu_l1_d2.values())*.01)))\n",
    "for key, val in trey_eu_l1_d2.iteritems():\n",
    "    trey_qre_l1_d2[key] = np.exp(float(val)*.01)/denom\n",
    "    "
   ]
  },
  {
   "cell_type": "code",
   "execution_count": 66,
   "metadata": {},
   "outputs": [
    {
     "name": "stdout",
     "output_type": "stream",
     "text": [
      "Trey's level 1 qre strategy with demand 1 is\n"
     ]
    },
    {
     "data": {
      "text/plain": [
       "{10: 3.9893827872e-05, 20: 0.0395856367061, 30: 0.719435116038, 40: 0.23947914\n",
       "6726, 50: 0.00146004366531, 60: 1.63036956318e-07}"
      ]
     },
     "execution_count": 66,
     "metadata": {},
     "output_type": "execute_result"
    }
   ],
   "source": [
    "print 'Trey\\'s level 1 qre strategy with demand 1 is'\n",
    "trey_qre_l1_d1"
   ]
  },
  {
   "cell_type": "code",
   "execution_count": 67,
   "metadata": {},
   "outputs": [
    {
     "name": "stdout",
     "output_type": "stream",
     "text": [
      "Trey's level 1 qre strategy with demand 2 is\n"
     ]
    },
    {
     "data": {
      "text/plain": [
       "{10: 0.0313686189717, 20: 0.345781819742, 30: 0.515845858686, 40: 0.1041474826\n",
       "91, 50: 0.00284569691062, 60: 1.05229993539e-05}"
      ]
     },
     "execution_count": 67,
     "metadata": {},
     "output_type": "execute_result"
    }
   ],
   "source": [
    "print 'Trey\\'s level 1 qre strategy with demand 2 is'\n",
    "trey_qre_l1_d2"
   ]
  },
  {
   "cell_type": "heading",
   "metadata": {},
   "level": 2,
   "source": [
    "Mike's Level 1 Optimization Problem"
   ]
  },
  {
   "cell_type": "markdown",
   "metadata": {},
   "source": [
    "Mike's Level 1 strategy is slightly more complex because he needs to use Bayes rule to form beliefs about the true state of the market given his signal. Specifically, he needs to maximize\n",
    "\n",
    "$P(demand=1|signal)\\mathbf{E}[U_1(Q_M)] + P(demand=2|signal)\\mathbf[{E}U_2(Q_M)]$, where $U_1$ and $U_2$ are Mike's profit functions."
   ]
  },
  {
   "cell_type": "heading",
   "metadata": {},
   "level": 4,
   "source": [
    "Aside: The following two cells define functions that are used to calculate the (analytical) equilibrium strategies for any level K."
   ]
  },
  {
   "cell_type": "code",
   "execution_count": 68,
   "metadata": {},
   "outputs": [
    {
     "data": {
      "image/png": "[encoded data removed]",
      "text/plain": [
       "True"
      ]
     },
     "metadata": {},
     "output_type": "display_data"
    }
   ],
   "source": [
    "# These functions give Mike's belief probabilities of demand 1 and demand 2\n",
    "# given the signal he receives:\n",
    "\n",
    "s1 = .8 # P(demand=1 | s1)\n",
    "s2 = .3 # P(demand =1 | s2)\n",
    "\n",
    "def phigh(signal):\n",
    "    if signal =='h':\n",
    "        return s1*.5/(s1*.5 +s2*.5)\n",
    "    if signal == 'l':\n",
    "        return .5*(1-s1)/(.5*(1-s1) + .5 * (1-s2))\n",
    "\n",
    "def plow(signal):\n",
    "    if signal =='h':\n",
    "        return s2*.5/(s2*.5 + s1*.5)\n",
    "    if signal =='l':\n",
    "        return .5 *(1-s2) / (.5*(1-s2) + .5*(1-s1))\n",
    "plow('l') == 1-phigh('l') # Should be true"
   ]
  },
  {
   "cell_type": "code",
   "execution_count": 69,
   "metadata": {},
   "outputs": [],
   "source": [
    "## This cell generalizes what was done in Trey's optimization.  Given a set of quantities Q,\n",
    "## and a probability distribution over what the opponent will do, these functions calculate\n",
    "## the expected utility for all elements of Q. \n",
    "\n",
    "\n",
    "def EU_H(Q, probsopp =np.ones(6)/6.):\n",
    "    \"\"\" Calculates expected utility when demand=1 given a quantity vector and probability\n",
    "    distribution representing the other player's strategy\"\"\"\n",
    "    eus = []\n",
    "    strats = np.arange(10,70,10)\n",
    "    for i in Q:\n",
    "        u = probsopp*(i*(200-2*i-2*strats) - i)\n",
    "        eus.append(np.sum(u))\n",
    "    return np.asarray(eus)\n",
    "\n",
    "def EU_L(Q, probsopp =np.ones(6)/6):\n",
    "    \"\"\" Calculates expected utility when demand=2 given a quantity vector and probability\n",
    "    distribution representing the other player's strategy\"\"\"\n",
    "    eus = []\n",
    "    strats = np.arange(10,70,10)\n",
    "    for i in Q:\n",
    "        u = probsopp* (i*(90-i-strats)-i)\n",
    "        eus.append(np.sum(u))\n",
    "    return np.asarray(eus)"
   ]
  },
  {
   "cell_type": "code",
   "execution_count": 70,
   "metadata": {},
   "outputs": [],
   "source": [
    "## Given Expected utilities and Beta parameter, calculate the QRE\n",
    "def lqre(eus, beta):\n",
    "    denom = np.sum(np.exp(beta*eus))\n",
    "    num = np.exp(beta*eus)\n",
    "    return num/denom"
   ]
  },
  {
   "cell_type": "heading",
   "metadata": {},
   "level": 4,
   "source": [
    "End Aside"
   ]
  },
  {
   "cell_type": "markdown",
   "metadata": {},
   "source": [
    "Now that we have functions to compute the values for Mike's utility function, we can see the expected utility from playing each of the possible Q's"
   ]
  },
  {
   "cell_type": "code",
   "execution_count": 71,
   "metadata": {},
   "outputs": [],
   "source": [
    "# For signal = s1'\n",
    "strats = np.arange(10,70,10)\n",
    "mike_eu_l1_s1 =  phigh('h')*EU_H(strats) + plow('h')*EU_L(strats)\n",
    "# For signal = s2\n",
    "mike_eu_l1_s2 =  phigh('l')*EU_H(strats) + plow('l')*EU_L(strats)\n",
    "# The quantal response strategy with beta=1\n",
    "mike_l1_s1_qre = lqre(mike_eu_l1_s1, .01)\n",
    "mike_l1_s2_qre = lqre(mike_eu_l1_s2, .01)"
   ]
  },
  {
   "cell_type": "markdown",
   "metadata": {},
   "source": [
    "Now, we have both player's level 1 CPT for both best response and logit response.  Now it is time to build the net to test."
   ]
  },
  {
   "cell_type": "code",
   "execution_count": 72,
   "metadata": {},
   "outputs": [],
   "source": [
    "# The Node\n",
    "import pynfg as pynfg\n",
    "market = pynfg.ChanceNode('market', (np.array([.5,.5]), [], ['h', 'l']))\n",
    "trey = pynfg.DecisionNode('trey', 'trey', list(np.arange(10,70,10)), parents =[market])\n",
    "mikes_signal = pynfg.ChanceNode('mikes_signal', (np.array([[.8,.2], [.3,.7]]), [market], ['hi', 'l0']))\n",
    "mike = pynfg.DecisionNode('mike', 'mike', list(np.arange(10,70,10)), parents = [mikes_signal])"
   ]
  },
  {
   "cell_type": "code",
   "execution_count": 73,
   "metadata": {},
   "outputs": [],
   "source": [
    "# The utility functions:\n",
    "def umike(market, trey, mike):\n",
    "    if market =='h':\n",
    "        return mike*(200-2*(mike+trey)) - mike\n",
    "    if market =='l':\n",
    "        return mike * (90-(mike+trey)) -mike\n",
    "\n",
    "def utrey(market, trey, mike):\n",
    "    if market =='h':\n",
    "        return trey*(200-2*(mike+trey)) - trey\n",
    "    if market =='l':\n",
    "        return trey * (90-(mike+trey)) -trey\n",
    "utils = {'mike': umike, 'trey': utrey}\n",
    "\n",
    "Game =pynfg.SemiNFG(set([market, trey, mikes_signal, mike]), utils)\n"
   ]
  },
  {
   "cell_type": "code",
   "execution_count": 74,
   "metadata": {},
   "outputs": [
    {
     "data": {
      "image/png": "[encoded data removed]",
      "text/plain": [
       "Figure(480x320)"
      ]
     },
     "metadata": {},
     "output_type": "display_data"
    }
   ],
   "source": [
    "#The Solvers and input\n",
    "params = pynfg.levelksolutions.br_dict(Game, 20000, 500, tol=1000, L0Dist='uniform', beta=.01)\n",
    "brgame = pynfg.levelksolutions.BestResponse(Game, params)\n",
    "brgame.Game.node_dict['market'].set_value('h')\n",
    "brgame.Game.node_dict['market'].draw_value()\n",
    "brgame.Game.node_dict['mikes_signal'].draw_value()\n",
    "Game.draw_graph()"
   ]
  },
  {
   "cell_type": "code",
   "execution_count": 75,
   "metadata": {},
   "outputs": [],
   "source": [
    "# This is used to get Trey's CPT from the dictionary to the ndarray above\n",
    "from numpy.testing import assert_almost_equal\n",
    "both_pure_l1 = np.asarray([[0,0,1,0,0,0],[0,0,1,0,0,0]])\n",
    "trey_logit_l1 = np.zeros((2,6))\n",
    "for i, j in zip(range(10,70,10), range(6)):\n",
    "    trey_logit_l1[0,j], trey_logit_l1[1,j] = trey_qre_l1_d1[i], trey_qre_l1_d2[i]"
   ]
  },
  {
   "cell_type": "code",
   "execution_count": 76,
   "metadata": {},
   "outputs": [
    {
     "name": "stdout",
     "output_type": "stream",
     "text": [
      "Training trey at level 1\n"
     ]
    }
   ],
   "source": [
    "brgame.train_node('trey', 1, logit=False)\n",
    "assert_almost_equal(brgame.Game.node_dict['trey'].LevelCPT[1], both_pure_l1)"
   ]
  },
  {
   "cell_type": "code",
   "execution_count": 77,
   "metadata": {},
   "outputs": [
    {
     "name": "stdout",
     "output_type": "stream",
     "text": [
      "Training trey at level 1\n"
     ]
    }
   ],
   "source": [
    "brgame.train_node('trey', 1, logit=True)\n",
    "assert_almost_equal(brgame.Game.node_dict['trey'].LevelCPT[1], trey_logit_l1, decimal=2)"
   ]
  },
  {
   "cell_type": "code",
   "execution_count": 78,
   "metadata": {},
   "outputs": [
    {
     "name": "stdout",
     "output_type": "stream",
     "text": [
      "Training mike at level 1\n"
     ]
    }
   ],
   "source": [
    "brgame.train_node('mike', 1, logit=False)\n",
    "assert_almost_equal(brgame.Game.node_dict['mike'].LevelCPT[1], both_pure_l1, decimal=2)"
   ]
  },
  {
   "cell_type": "code",
   "execution_count": 79,
   "metadata": {},
   "outputs": [
    {
     "name": "stdout",
     "output_type": "stream",
     "text": [
      "Training mike at level 1\n"
     ]
    }
   ],
   "source": [
    "brgame.train_node('mike', 1, logit = True)\n",
    "assert_almost_equal(brgame.Game.node_dict['mike'].LevelCPT[1], np.vstack((mike_l1_s1_qre, mike_l1_s2_qre)), decimal=2)"
   ]
  },
  {
   "cell_type": "markdown",
   "metadata": {},
   "source": [
    "To test further levels, the following input cell defines a function that takes as an input a level for each player and returns their equilibrium strategy."
   ]
  },
  {
   "cell_type": "code",
   "execution_count": 80,
   "metadata": {},
   "outputs": [],
   "source": [
    "# These are all helper functions to generate the analytical equilibrium for any level of \n",
    "# the players.\n",
    "\n",
    "s1 =.8\n",
    "s2=.7\n",
    "def treylk(signal, mikeshigh=np.ones(6)/6., mikeslow=np.ones(6)/6., returnEU=False):\n",
    "    if signal == 'h':\n",
    "        EU = s1 *EU_H(strats, mikeshigh) + (1-s1)*EU_H(strats, mikeslow)\n",
    "        if returnEU:\n",
    "            return EU\n",
    "        return lqre(EU, .01)\n",
    "    if signal == 'l':\n",
    "        EU = s2 *EU_L(strats, mikeshigh) + (1-s2)*EU_L(strats, mikeslow)\n",
    "        if returnEU:\n",
    "            return EU\n",
    "        return lqre(EU, .01)\n",
    "\n",
    "def mikelk(signal, treyhigh = np.ones(6)/6., treylow = np.ones(6)/6., beta=.01, returnEU=False):\n",
    "    if signal =='h':\n",
    "        high_m = phigh('h')\n",
    "        EU = high_m * EU_H(strats, treyhigh) + (1-high_m)*EU_L(strats, treylow)\n",
    "        if returnEU:\n",
    "            return EU\n",
    "        return lqre(EU, beta)\n",
    "    if signal =='l':\n",
    "        high_m = phigh('l')\n",
    "        EU = high_m * EU_H(strats, treyhigh) + (1-high_m)*EU_L(strats, treylow)\n",
    "        if returnEU:\n",
    "            return EU\n",
    "        return lqre(EU, beta)\n",
    "\n",
    "def genCPT(Lmike=3, Ltrey=3):\n",
    "    probs = np.ones(6)/6.\n",
    "    mikelkh = np.copy(probs)\n",
    "    mikelkl = np.copy(probs)\n",
    "    treylkh = np.copy(probs)\n",
    "    treylkl = np.copy(probs)\n",
    "    CPT ={'trey': None, 'mike': None}\n",
    "    if Lmike == 0:\n",
    "        CPT['mike'] = np.array([mikelkh, mikelkl])\n",
    "    if Ltrey == 0:\n",
    "        CPT['trey'] = np.array([treylkh, treylkl])\n",
    "    for lev in range(max(Lmike, Ltrey)):\n",
    "        mikelkh_temp, mikelkl_temp = mikelk('h', treyhigh = treylkh, treylow = treylkl), mikelk('l', treyhigh = treylkh, treylow = treylkl)\n",
    "        treylkh, treylkl = treylk('h', mikeshigh=mikelkh, mikeslow=mikelkl), treylk('l', mikeshigh=mikelkh, mikeslow=mikelkl)\n",
    "        mikelkh, mikelkl = mikelkh_temp, mikelkl_temp\n",
    "        if Lmike ==lev +1:\n",
    "            CPT['mike'] = np.array([mikelkh, mikelkl])\n",
    "        if Ltrey ==lev+1:\n",
    "            CPT['trey'] = np.array([treylkh, treylkl])\n",
    "    return CPT\n",
    "\n",
    "l2 = genCPT(2,2)"
   ]
  },
  {
   "cell_type": "code",
   "execution_count": 81,
   "metadata": {},
   "outputs": [
    {
     "name": "stdout",
     "output_type": "stream",
     "text": [
      "Training trey at level 2\n",
      "Training mike at level 2"
     ]
    },
    {
     "name": "stdout",
     "output_type": "stream",
     "text": [
      "\n"
     ]
    }
   ],
   "source": [
    "brgame.train_node('trey', 2, logit=True)\n",
    "brgame.train_node('mike', 2, logit=True)"
   ]
  },
  {
   "cell_type": "code",
   "execution_count": 82,
   "metadata": {},
   "outputs": [],
   "source": [
    "assert_almost_equal(brgame.Game.node_dict['trey'].LevelCPT[2], l2['trey'], decimal=1)"
   ]
  },
  {
   "cell_type": "code",
   "execution_count": 83,
   "metadata": {},
   "outputs": [],
   "source": [
    "assert_almost_equal(brgame.Game.node_dict['mike'].LevelCPT[2], l2['mike'], decimal=1)"
   ]
  }
 ],
 "metadata": {
  "name": ""
 },
 "nbformat": 4,
 "nbformat_minor": 0
}
